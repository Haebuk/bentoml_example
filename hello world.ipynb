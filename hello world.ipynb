{
 "cells": [
  {
   "cell_type": "markdown",
   "id": "thermal-cooking",
   "metadata": {},
   "source": [
    "## Import iris data set"
   ]
  },
  {
   "cell_type": "code",
   "execution_count": 1,
   "id": "rapid-buddy",
   "metadata": {
    "ExecuteTime": {
     "end_time": "2021-04-19T13:40:28.488183Z",
     "start_time": "2021-04-19T13:40:28.305017Z"
    }
   },
   "outputs": [
    {
     "data": {
      "text/plain": [
       "SVC()"
      ]
     },
     "execution_count": 1,
     "metadata": {},
     "output_type": "execute_result"
    }
   ],
   "source": [
    "from sklearn import svm, datasets\n",
    "\n",
    "# Load training data\n",
    "iris = datasets.load_iris()\n",
    "X, y = iris.data, iris.target\n",
    "\n",
    "# Model Training\n",
    "clf = svm.SVC(gamma='scale')\n",
    "clf.fit(X, y)"
   ]
  },
  {
   "cell_type": "code",
   "execution_count": 3,
   "id": "commercial-sword",
   "metadata": {
    "ExecuteTime": {
     "end_time": "2021-04-19T13:45:40.361225Z",
     "start_time": "2021-04-19T13:45:40.117004Z"
    }
   },
   "outputs": [],
   "source": [
    "# iris_classifier.py\n",
    "import pandas as pd\n",
    "\n",
    "from bentoml import env, artifacts, api, BentoService\n",
    "from bentoml.adapters import DataframeInput\n",
    "from bentoml.frameworks.sklearn import SklearnModelArtifact\n",
    "\n",
    "@env(infer_pip_packages=True)\n",
    "@artifacts([SklearnModelArtifact('model')])\n",
    "class IrisClassifier(BentoService):\n",
    "    \"\"\"\n",
    "    A minimum prediction service exposing as Scikit-learn model\n",
    "    \"\"\"\n",
    "    \n",
    "    @api(input=DataframeInput(), batch=True)\n",
    "    def predict(self, df: pd.DataFrame):\n",
    "        \"\"\"\n",
    "        An inference API named 'predict' with Dataframe input adapter, which\n",
    "        codified how HTTP requests or CSV files are converted to a pandas \n",
    "        Dataframe object as the inference API function input\n",
    "        \"\"\"\n",
    "        return self.artifacts.model.predict(df)"
   ]
  },
  {
   "cell_type": "markdown",
   "id": "biblical-lawyer",
   "metadata": {},
   "source": [
    "## Save prediction service for distribution"
   ]
  },
  {
   "cell_type": "code",
   "execution_count": 6,
   "id": "intimate-arrest",
   "metadata": {
    "ExecuteTime": {
     "end_time": "2021-04-19T13:48:39.787169Z",
     "start_time": "2021-04-19T13:48:38.207735Z"
    }
   },
   "outputs": [
    {
     "name": "stdout",
     "output_type": "stream",
     "text": [
      "[2021-04-19 22:48:38,208] WARNING - pip package requirement pandas already exist\n",
      "[2021-04-19 22:48:38,210] WARNING - pip package requirement scikit-learn already exist\n",
      "[2021-04-19 22:48:39,776] INFO - BentoService bundle 'IrisClassifier:20210419224838_A8FA22' saved to: C:\\Users\\cwryu/bentoml/repository/IrisClassifier\\20210419224838_A8FA22\n"
     ]
    }
   ],
   "source": [
    "#import the IrisClassifier class defined above\n",
    "from iris_classifier import IrisClassifier\n",
    "\n",
    "# Create a iris classifier service instance\n",
    "iris_classifier_service = IrisClassifier()\n",
    "\n",
    "# Pack the newly trained model artifact\n",
    "iris_classifier_service.pack('model', clf)\n",
    "\n",
    "# Save the prediction service to disk for model serving\n",
    "saved_path = iris_classifier_service.save()"
   ]
  },
  {
   "cell_type": "markdown",
   "id": "major-formula",
   "metadata": {},
   "source": [
    "### Model Serving via Rest API"
   ]
  },
  {
   "cell_type": "code",
   "execution_count": 7,
   "id": "protective-methodology",
   "metadata": {
    "ExecuteTime": {
     "end_time": "2021-04-19T13:52:30.203020Z",
     "start_time": "2021-04-19T13:52:25.308577Z"
    }
   },
   "outputs": [
    {
     "name": "stdout",
     "output_type": "stream",
     "text": [
      "[0]\n"
     ]
    }
   ],
   "source": [
    "import requests\n",
    "response = requests.post(\"http://127.0.0.1:5000/predict\", json=[[5.1, 3.5, 1.4, 0.2]])\n",
    "print(response.text)"
   ]
  },
  {
   "cell_type": "code",
   "execution_count": null,
   "id": "above-registrar",
   "metadata": {},
   "outputs": [],
   "source": []
  }
 ],
 "metadata": {
  "kernelspec": {
   "display_name": "Python 3",
   "language": "python",
   "name": "python3"
  },
  "language_info": {
   "codemirror_mode": {
    "name": "ipython",
    "version": 3
   },
   "file_extension": ".py",
   "mimetype": "text/x-python",
   "name": "python",
   "nbconvert_exporter": "python",
   "pygments_lexer": "ipython3",
   "version": "3.7.10"
  },
  "toc": {
   "base_numbering": 1,
   "nav_menu": {},
   "number_sections": false,
   "sideBar": true,
   "skip_h1_title": false,
   "title_cell": "Table of Contents",
   "title_sidebar": "Contents",
   "toc_cell": false,
   "toc_position": {},
   "toc_section_display": true,
   "toc_window_display": false
  },
  "varInspector": {
   "cols": {
    "lenName": 16,
    "lenType": 16,
    "lenVar": 40
   },
   "kernels_config": {
    "python": {
     "delete_cmd_postfix": "",
     "delete_cmd_prefix": "del ",
     "library": "var_list.py",
     "varRefreshCmd": "print(var_dic_list())"
    },
    "r": {
     "delete_cmd_postfix": ") ",
     "delete_cmd_prefix": "rm(",
     "library": "var_list.r",
     "varRefreshCmd": "cat(var_dic_list()) "
    }
   },
   "types_to_exclude": [
    "module",
    "function",
    "builtin_function_or_method",
    "instance",
    "_Feature"
   ],
   "window_display": false
  }
 },
 "nbformat": 4,
 "nbformat_minor": 5
}
